{
  "nbformat": 4,
  "nbformat_minor": 0,
  "metadata": {
    "kernelspec": {
      "language": "python",
      "display_name": "Python 3",
      "name": "python3"
    },
    "language_info": {
      "pygments_lexer": "ipython3",
      "nbconvert_exporter": "python",
      "version": "3.6.4",
      "file_extension": ".py",
      "codemirror_mode": {
        "name": "ipython",
        "version": 3
      },
      "name": "python",
      "mimetype": "text/x-python"
    },
    "colab": {
      "name": "price_prediction.ipynb",
      "provenance": [],
      "collapsed_sections": []
    }
  },
  "cells": [
    {
      "cell_type": "code",
      "metadata": {
        "id": "NeWVBhf1VxlH"
      },
      "source": [
        "%tensorflow_version 2.x\n",
        "import json\n",
        "import requests\n",
        "from keras.models import Sequential\n",
        "from keras.layers import Activation, Dense, Dropout, LSTM\n",
        "import matplotlib.pyplot as plt\n",
        "import numpy as np\n",
        "import pandas as pd\n",
        "import seaborn as sns\n",
        "from sklearn.metrics import mean_absolute_error\n",
        "%matplotlib inline\n",
        "window_size = 50"
      ],
      "execution_count": 848,
      "outputs": []
    },
    {
      "cell_type": "code",
      "metadata": {
        "_uuid": "d629ff2d2480ee46fbb7e2d37f6b5fab8052498a",
        "_cell_guid": "79c7e3d0-c299-4dcb-8224-4455121ee9b0",
        "trusted": true,
        "id": "6W__OM92pskF",
        "colab": {
          "base_uri": "https://localhost:8080/",
          "height": 235
        },
        "outputId": "3216fe78-92be-4936-e925-93c1cc949f0d"
      },
      "source": [
        "endpoint = 'https://min-api.cryptocompare.com/data/v2/histohour?fsym=AVAX&tsym=USDT&limit=2000&api_key=d030e2d4b355590e02d53bffc395ed91a2de64c65fbf38825b36f45d58e5f8d9'\n",
        "res = requests.get(endpoint)\n",
        "ihist = pd.DataFrame(json.loads(res.content)['Data']['Data'])\n",
        "ihist = ihist.set_index('time')\n",
        "ihist.index = pd.to_datetime(ihist.index, unit='s')\n",
        "\n",
        "target_col = 'high' + str(window_size - 1)\n",
        "ihist.drop([\"conversionType\", \"conversionSymbol\"], axis = 'columns', inplace = True)\n",
        "\n",
        "ihist.tail(5)"
      ],
      "execution_count": 849,
      "outputs": [
        {
          "output_type": "execute_result",
          "data": {
            "text/html": [
              "<div>\n",
              "<style scoped>\n",
              "    .dataframe tbody tr th:only-of-type {\n",
              "        vertical-align: middle;\n",
              "    }\n",
              "\n",
              "    .dataframe tbody tr th {\n",
              "        vertical-align: top;\n",
              "    }\n",
              "\n",
              "    .dataframe thead th {\n",
              "        text-align: right;\n",
              "    }\n",
              "</style>\n",
              "<table border=\"1\" class=\"dataframe\">\n",
              "  <thead>\n",
              "    <tr style=\"text-align: right;\">\n",
              "      <th></th>\n",
              "      <th>high</th>\n",
              "      <th>low</th>\n",
              "      <th>open</th>\n",
              "      <th>volumefrom</th>\n",
              "      <th>volumeto</th>\n",
              "      <th>close</th>\n",
              "    </tr>\n",
              "    <tr>\n",
              "      <th>time</th>\n",
              "      <th></th>\n",
              "      <th></th>\n",
              "      <th></th>\n",
              "      <th></th>\n",
              "      <th></th>\n",
              "      <th></th>\n",
              "    </tr>\n",
              "  </thead>\n",
              "  <tbody>\n",
              "    <tr>\n",
              "      <th>2021-08-29 14:00:00</th>\n",
              "      <td>48.12</td>\n",
              "      <td>47.01</td>\n",
              "      <td>47.72</td>\n",
              "      <td>354181.38</td>\n",
              "      <td>16820935.02</td>\n",
              "      <td>47.11</td>\n",
              "    </tr>\n",
              "    <tr>\n",
              "      <th>2021-08-29 15:00:00</th>\n",
              "      <td>47.32</td>\n",
              "      <td>46.68</td>\n",
              "      <td>47.11</td>\n",
              "      <td>346154.91</td>\n",
              "      <td>16279196.55</td>\n",
              "      <td>47.13</td>\n",
              "    </tr>\n",
              "    <tr>\n",
              "      <th>2021-08-29 16:00:00</th>\n",
              "      <td>48.17</td>\n",
              "      <td>47.04</td>\n",
              "      <td>47.13</td>\n",
              "      <td>295926.69</td>\n",
              "      <td>14074652.16</td>\n",
              "      <td>48.01</td>\n",
              "    </tr>\n",
              "    <tr>\n",
              "      <th>2021-08-29 17:00:00</th>\n",
              "      <td>48.25</td>\n",
              "      <td>47.58</td>\n",
              "      <td>48.01</td>\n",
              "      <td>255684.12</td>\n",
              "      <td>12258506.26</td>\n",
              "      <td>47.95</td>\n",
              "    </tr>\n",
              "    <tr>\n",
              "      <th>2021-08-29 18:00:00</th>\n",
              "      <td>47.96</td>\n",
              "      <td>47.71</td>\n",
              "      <td>47.95</td>\n",
              "      <td>24183.13</td>\n",
              "      <td>1156672.70</td>\n",
              "      <td>47.72</td>\n",
              "    </tr>\n",
              "  </tbody>\n",
              "</table>\n",
              "</div>"
            ],
            "text/plain": [
              "                      high    low   open  volumefrom     volumeto  close\n",
              "time                                                                    \n",
              "2021-08-29 14:00:00  48.12  47.01  47.72   354181.38  16820935.02  47.11\n",
              "2021-08-29 15:00:00  47.32  46.68  47.11   346154.91  16279196.55  47.13\n",
              "2021-08-29 16:00:00  48.17  47.04  47.13   295926.69  14074652.16  48.01\n",
              "2021-08-29 17:00:00  48.25  47.58  48.01   255684.12  12258506.26  47.95\n",
              "2021-08-29 18:00:00  47.96  47.71  47.95    24183.13   1156672.70  47.72"
            ]
          },
          "metadata": {},
          "execution_count": 849
        }
      ]
    },
    {
      "cell_type": "code",
      "metadata": {
        "id": "IJ81oAj4sw6x"
      },
      "source": [
        ""
      ],
      "execution_count": 338,
      "outputs": []
    },
    {
      "cell_type": "code",
      "metadata": {
        "colab": {
          "base_uri": "https://localhost:8080/",
          "height": 253
        },
        "id": "ZF9p3SjzCbGn",
        "outputId": "2bed6d94-e804-47f7-8409-42c0b13813d4"
      },
      "source": [
        "newcols = []\n",
        "for i in range(0, window_size):\n",
        "  newcols.append(\"high\" + str(i))\n",
        "  newcols.append(\"low\" + str(i))\n",
        "  newcols.append(\"open\" + str(i))\n",
        "  newcols.append(\"close\" + str(i))\n",
        "  # newcols.append(\"volumefrom\" + str(i))\n",
        "  # newcols.append(\"volumeto\" + str(i))\n",
        "\n",
        "#print(newcols)\n",
        "hist = pd.DataFrame(columns = newcols)\n",
        "count = 0\n",
        "current_row = []\n",
        "idx = 0\n",
        "\n",
        "allrows = []\n",
        "for index, row in ihist.iterrows():\n",
        "  tmp = [row['high'], row['low'], row['open'], row['close']]\n",
        "  allrows.extend(tmp)\n",
        "  \n",
        "\n",
        "count = 0;\n",
        "lastrow = []\n",
        "for idx, val in enumerate(allrows):\n",
        "  if (idx + 4*window_size <= len(allrows)) and idx%4==0:\n",
        "    lastrow = allrows[idx:idx + (4 * window_size)]\n",
        "    hist.loc[count] = lastrow.copy()\n",
        "    count = count+1\n",
        "    # print(lastrow)\n",
        "    # break;\n",
        "\n",
        "# print(len(hist))\n",
        "# print((1999 - window_size - 1))\n",
        "\n",
        "lastr = lastrow.copy()\n",
        "lastr = lastr[4:]\n",
        "lastr.extend([lastrow[len(lastrow) -4], 0, 0, 0])\n",
        "\n",
        "hist.loc[count] = lastr\n",
        "hist.drop([\"close\" + str(window_size-1), \"low\" + str(window_size-1), \"open\" + str(window_size-1)], axis = 'columns', inplace = True)\n",
        "hist.tail(5)"
      ],
      "execution_count": 850,
      "outputs": [
        {
          "output_type": "execute_result",
          "data": {
            "text/html": [
              "<div>\n",
              "<style scoped>\n",
              "    .dataframe tbody tr th:only-of-type {\n",
              "        vertical-align: middle;\n",
              "    }\n",
              "\n",
              "    .dataframe tbody tr th {\n",
              "        vertical-align: top;\n",
              "    }\n",
              "\n",
              "    .dataframe thead th {\n",
              "        text-align: right;\n",
              "    }\n",
              "</style>\n",
              "<table border=\"1\" class=\"dataframe\">\n",
              "  <thead>\n",
              "    <tr style=\"text-align: right;\">\n",
              "      <th></th>\n",
              "      <th>high0</th>\n",
              "      <th>low0</th>\n",
              "      <th>open0</th>\n",
              "      <th>close0</th>\n",
              "      <th>high1</th>\n",
              "      <th>low1</th>\n",
              "      <th>open1</th>\n",
              "      <th>close1</th>\n",
              "      <th>high2</th>\n",
              "      <th>low2</th>\n",
              "      <th>open2</th>\n",
              "      <th>close2</th>\n",
              "      <th>high3</th>\n",
              "      <th>low3</th>\n",
              "      <th>open3</th>\n",
              "      <th>close3</th>\n",
              "      <th>high4</th>\n",
              "      <th>low4</th>\n",
              "      <th>open4</th>\n",
              "      <th>close4</th>\n",
              "      <th>high5</th>\n",
              "      <th>low5</th>\n",
              "      <th>open5</th>\n",
              "      <th>close5</th>\n",
              "      <th>high6</th>\n",
              "      <th>low6</th>\n",
              "      <th>open6</th>\n",
              "      <th>close6</th>\n",
              "      <th>high7</th>\n",
              "      <th>low7</th>\n",
              "      <th>open7</th>\n",
              "      <th>close7</th>\n",
              "      <th>high8</th>\n",
              "      <th>low8</th>\n",
              "      <th>open8</th>\n",
              "      <th>close8</th>\n",
              "      <th>high9</th>\n",
              "      <th>low9</th>\n",
              "      <th>open9</th>\n",
              "      <th>close9</th>\n",
              "      <th>...</th>\n",
              "      <th>low39</th>\n",
              "      <th>open39</th>\n",
              "      <th>close39</th>\n",
              "      <th>high40</th>\n",
              "      <th>low40</th>\n",
              "      <th>open40</th>\n",
              "      <th>close40</th>\n",
              "      <th>high41</th>\n",
              "      <th>low41</th>\n",
              "      <th>open41</th>\n",
              "      <th>close41</th>\n",
              "      <th>high42</th>\n",
              "      <th>low42</th>\n",
              "      <th>open42</th>\n",
              "      <th>close42</th>\n",
              "      <th>high43</th>\n",
              "      <th>low43</th>\n",
              "      <th>open43</th>\n",
              "      <th>close43</th>\n",
              "      <th>high44</th>\n",
              "      <th>low44</th>\n",
              "      <th>open44</th>\n",
              "      <th>close44</th>\n",
              "      <th>high45</th>\n",
              "      <th>low45</th>\n",
              "      <th>open45</th>\n",
              "      <th>close45</th>\n",
              "      <th>high46</th>\n",
              "      <th>low46</th>\n",
              "      <th>open46</th>\n",
              "      <th>close46</th>\n",
              "      <th>high47</th>\n",
              "      <th>low47</th>\n",
              "      <th>open47</th>\n",
              "      <th>close47</th>\n",
              "      <th>high48</th>\n",
              "      <th>low48</th>\n",
              "      <th>open48</th>\n",
              "      <th>close48</th>\n",
              "      <th>high49</th>\n",
              "    </tr>\n",
              "  </thead>\n",
              "  <tbody>\n",
              "    <tr>\n",
              "      <th>1948</th>\n",
              "      <td>47.42</td>\n",
              "      <td>44.62</td>\n",
              "      <td>44.80</td>\n",
              "      <td>46.59</td>\n",
              "      <td>47.87</td>\n",
              "      <td>46.21</td>\n",
              "      <td>46.59</td>\n",
              "      <td>46.87</td>\n",
              "      <td>47.55</td>\n",
              "      <td>46.01</td>\n",
              "      <td>46.87</td>\n",
              "      <td>47.45</td>\n",
              "      <td>49.35</td>\n",
              "      <td>47.38</td>\n",
              "      <td>47.45</td>\n",
              "      <td>47.89</td>\n",
              "      <td>48.83</td>\n",
              "      <td>47.51</td>\n",
              "      <td>47.89</td>\n",
              "      <td>48.81</td>\n",
              "      <td>48.94</td>\n",
              "      <td>47.81</td>\n",
              "      <td>48.81</td>\n",
              "      <td>48.11</td>\n",
              "      <td>48.92</td>\n",
              "      <td>47.15</td>\n",
              "      <td>48.11</td>\n",
              "      <td>48.71</td>\n",
              "      <td>50.43</td>\n",
              "      <td>48.55</td>\n",
              "      <td>48.71</td>\n",
              "      <td>49.74</td>\n",
              "      <td>50.39</td>\n",
              "      <td>49.19</td>\n",
              "      <td>49.74</td>\n",
              "      <td>50.12</td>\n",
              "      <td>50.30</td>\n",
              "      <td>49.35</td>\n",
              "      <td>50.12</td>\n",
              "      <td>50.12</td>\n",
              "      <td>...</td>\n",
              "      <td>48.17</td>\n",
              "      <td>49.28</td>\n",
              "      <td>49.32</td>\n",
              "      <td>49.44</td>\n",
              "      <td>48.39</td>\n",
              "      <td>49.32</td>\n",
              "      <td>49.12</td>\n",
              "      <td>49.33</td>\n",
              "      <td>48.51</td>\n",
              "      <td>49.12</td>\n",
              "      <td>48.68</td>\n",
              "      <td>49.18</td>\n",
              "      <td>48.19</td>\n",
              "      <td>48.68</td>\n",
              "      <td>48.74</td>\n",
              "      <td>48.79</td>\n",
              "      <td>47.56</td>\n",
              "      <td>48.74</td>\n",
              "      <td>48.69</td>\n",
              "      <td>49.23</td>\n",
              "      <td>48.44</td>\n",
              "      <td>48.69</td>\n",
              "      <td>48.55</td>\n",
              "      <td>48.71</td>\n",
              "      <td>47.57</td>\n",
              "      <td>48.55</td>\n",
              "      <td>47.68</td>\n",
              "      <td>48.37</td>\n",
              "      <td>47.49</td>\n",
              "      <td>47.68</td>\n",
              "      <td>47.81</td>\n",
              "      <td>48.22</td>\n",
              "      <td>47.65</td>\n",
              "      <td>47.81</td>\n",
              "      <td>47.72</td>\n",
              "      <td>48.12</td>\n",
              "      <td>47.01</td>\n",
              "      <td>47.72</td>\n",
              "      <td>47.11</td>\n",
              "      <td>47.32</td>\n",
              "    </tr>\n",
              "    <tr>\n",
              "      <th>1949</th>\n",
              "      <td>47.87</td>\n",
              "      <td>46.21</td>\n",
              "      <td>46.59</td>\n",
              "      <td>46.87</td>\n",
              "      <td>47.55</td>\n",
              "      <td>46.01</td>\n",
              "      <td>46.87</td>\n",
              "      <td>47.45</td>\n",
              "      <td>49.35</td>\n",
              "      <td>47.38</td>\n",
              "      <td>47.45</td>\n",
              "      <td>47.89</td>\n",
              "      <td>48.83</td>\n",
              "      <td>47.51</td>\n",
              "      <td>47.89</td>\n",
              "      <td>48.81</td>\n",
              "      <td>48.94</td>\n",
              "      <td>47.81</td>\n",
              "      <td>48.81</td>\n",
              "      <td>48.11</td>\n",
              "      <td>48.92</td>\n",
              "      <td>47.15</td>\n",
              "      <td>48.11</td>\n",
              "      <td>48.71</td>\n",
              "      <td>50.43</td>\n",
              "      <td>48.55</td>\n",
              "      <td>48.71</td>\n",
              "      <td>49.74</td>\n",
              "      <td>50.39</td>\n",
              "      <td>49.19</td>\n",
              "      <td>49.74</td>\n",
              "      <td>50.12</td>\n",
              "      <td>50.30</td>\n",
              "      <td>49.35</td>\n",
              "      <td>50.12</td>\n",
              "      <td>50.12</td>\n",
              "      <td>50.63</td>\n",
              "      <td>48.11</td>\n",
              "      <td>50.12</td>\n",
              "      <td>48.50</td>\n",
              "      <td>...</td>\n",
              "      <td>48.39</td>\n",
              "      <td>49.32</td>\n",
              "      <td>49.12</td>\n",
              "      <td>49.33</td>\n",
              "      <td>48.51</td>\n",
              "      <td>49.12</td>\n",
              "      <td>48.68</td>\n",
              "      <td>49.18</td>\n",
              "      <td>48.19</td>\n",
              "      <td>48.68</td>\n",
              "      <td>48.74</td>\n",
              "      <td>48.79</td>\n",
              "      <td>47.56</td>\n",
              "      <td>48.74</td>\n",
              "      <td>48.69</td>\n",
              "      <td>49.23</td>\n",
              "      <td>48.44</td>\n",
              "      <td>48.69</td>\n",
              "      <td>48.55</td>\n",
              "      <td>48.71</td>\n",
              "      <td>47.57</td>\n",
              "      <td>48.55</td>\n",
              "      <td>47.68</td>\n",
              "      <td>48.37</td>\n",
              "      <td>47.49</td>\n",
              "      <td>47.68</td>\n",
              "      <td>47.81</td>\n",
              "      <td>48.22</td>\n",
              "      <td>47.65</td>\n",
              "      <td>47.81</td>\n",
              "      <td>47.72</td>\n",
              "      <td>48.12</td>\n",
              "      <td>47.01</td>\n",
              "      <td>47.72</td>\n",
              "      <td>47.11</td>\n",
              "      <td>47.32</td>\n",
              "      <td>46.68</td>\n",
              "      <td>47.11</td>\n",
              "      <td>47.13</td>\n",
              "      <td>48.17</td>\n",
              "    </tr>\n",
              "    <tr>\n",
              "      <th>1950</th>\n",
              "      <td>47.55</td>\n",
              "      <td>46.01</td>\n",
              "      <td>46.87</td>\n",
              "      <td>47.45</td>\n",
              "      <td>49.35</td>\n",
              "      <td>47.38</td>\n",
              "      <td>47.45</td>\n",
              "      <td>47.89</td>\n",
              "      <td>48.83</td>\n",
              "      <td>47.51</td>\n",
              "      <td>47.89</td>\n",
              "      <td>48.81</td>\n",
              "      <td>48.94</td>\n",
              "      <td>47.81</td>\n",
              "      <td>48.81</td>\n",
              "      <td>48.11</td>\n",
              "      <td>48.92</td>\n",
              "      <td>47.15</td>\n",
              "      <td>48.11</td>\n",
              "      <td>48.71</td>\n",
              "      <td>50.43</td>\n",
              "      <td>48.55</td>\n",
              "      <td>48.71</td>\n",
              "      <td>49.74</td>\n",
              "      <td>50.39</td>\n",
              "      <td>49.19</td>\n",
              "      <td>49.74</td>\n",
              "      <td>50.12</td>\n",
              "      <td>50.30</td>\n",
              "      <td>49.35</td>\n",
              "      <td>50.12</td>\n",
              "      <td>50.12</td>\n",
              "      <td>50.63</td>\n",
              "      <td>48.11</td>\n",
              "      <td>50.12</td>\n",
              "      <td>48.50</td>\n",
              "      <td>48.60</td>\n",
              "      <td>47.74</td>\n",
              "      <td>48.50</td>\n",
              "      <td>48.30</td>\n",
              "      <td>...</td>\n",
              "      <td>48.51</td>\n",
              "      <td>49.12</td>\n",
              "      <td>48.68</td>\n",
              "      <td>49.18</td>\n",
              "      <td>48.19</td>\n",
              "      <td>48.68</td>\n",
              "      <td>48.74</td>\n",
              "      <td>48.79</td>\n",
              "      <td>47.56</td>\n",
              "      <td>48.74</td>\n",
              "      <td>48.69</td>\n",
              "      <td>49.23</td>\n",
              "      <td>48.44</td>\n",
              "      <td>48.69</td>\n",
              "      <td>48.55</td>\n",
              "      <td>48.71</td>\n",
              "      <td>47.57</td>\n",
              "      <td>48.55</td>\n",
              "      <td>47.68</td>\n",
              "      <td>48.37</td>\n",
              "      <td>47.49</td>\n",
              "      <td>47.68</td>\n",
              "      <td>47.81</td>\n",
              "      <td>48.22</td>\n",
              "      <td>47.65</td>\n",
              "      <td>47.81</td>\n",
              "      <td>47.72</td>\n",
              "      <td>48.12</td>\n",
              "      <td>47.01</td>\n",
              "      <td>47.72</td>\n",
              "      <td>47.11</td>\n",
              "      <td>47.32</td>\n",
              "      <td>46.68</td>\n",
              "      <td>47.11</td>\n",
              "      <td>47.13</td>\n",
              "      <td>48.17</td>\n",
              "      <td>47.04</td>\n",
              "      <td>47.13</td>\n",
              "      <td>48.01</td>\n",
              "      <td>48.25</td>\n",
              "    </tr>\n",
              "    <tr>\n",
              "      <th>1951</th>\n",
              "      <td>49.35</td>\n",
              "      <td>47.38</td>\n",
              "      <td>47.45</td>\n",
              "      <td>47.89</td>\n",
              "      <td>48.83</td>\n",
              "      <td>47.51</td>\n",
              "      <td>47.89</td>\n",
              "      <td>48.81</td>\n",
              "      <td>48.94</td>\n",
              "      <td>47.81</td>\n",
              "      <td>48.81</td>\n",
              "      <td>48.11</td>\n",
              "      <td>48.92</td>\n",
              "      <td>47.15</td>\n",
              "      <td>48.11</td>\n",
              "      <td>48.71</td>\n",
              "      <td>50.43</td>\n",
              "      <td>48.55</td>\n",
              "      <td>48.71</td>\n",
              "      <td>49.74</td>\n",
              "      <td>50.39</td>\n",
              "      <td>49.19</td>\n",
              "      <td>49.74</td>\n",
              "      <td>50.12</td>\n",
              "      <td>50.30</td>\n",
              "      <td>49.35</td>\n",
              "      <td>50.12</td>\n",
              "      <td>50.12</td>\n",
              "      <td>50.63</td>\n",
              "      <td>48.11</td>\n",
              "      <td>50.12</td>\n",
              "      <td>48.50</td>\n",
              "      <td>48.60</td>\n",
              "      <td>47.74</td>\n",
              "      <td>48.50</td>\n",
              "      <td>48.30</td>\n",
              "      <td>48.57</td>\n",
              "      <td>47.18</td>\n",
              "      <td>48.30</td>\n",
              "      <td>47.55</td>\n",
              "      <td>...</td>\n",
              "      <td>48.19</td>\n",
              "      <td>48.68</td>\n",
              "      <td>48.74</td>\n",
              "      <td>48.79</td>\n",
              "      <td>47.56</td>\n",
              "      <td>48.74</td>\n",
              "      <td>48.69</td>\n",
              "      <td>49.23</td>\n",
              "      <td>48.44</td>\n",
              "      <td>48.69</td>\n",
              "      <td>48.55</td>\n",
              "      <td>48.71</td>\n",
              "      <td>47.57</td>\n",
              "      <td>48.55</td>\n",
              "      <td>47.68</td>\n",
              "      <td>48.37</td>\n",
              "      <td>47.49</td>\n",
              "      <td>47.68</td>\n",
              "      <td>47.81</td>\n",
              "      <td>48.22</td>\n",
              "      <td>47.65</td>\n",
              "      <td>47.81</td>\n",
              "      <td>47.72</td>\n",
              "      <td>48.12</td>\n",
              "      <td>47.01</td>\n",
              "      <td>47.72</td>\n",
              "      <td>47.11</td>\n",
              "      <td>47.32</td>\n",
              "      <td>46.68</td>\n",
              "      <td>47.11</td>\n",
              "      <td>47.13</td>\n",
              "      <td>48.17</td>\n",
              "      <td>47.04</td>\n",
              "      <td>47.13</td>\n",
              "      <td>48.01</td>\n",
              "      <td>48.25</td>\n",
              "      <td>47.58</td>\n",
              "      <td>48.01</td>\n",
              "      <td>47.95</td>\n",
              "      <td>47.96</td>\n",
              "    </tr>\n",
              "    <tr>\n",
              "      <th>1952</th>\n",
              "      <td>48.83</td>\n",
              "      <td>47.51</td>\n",
              "      <td>47.89</td>\n",
              "      <td>48.81</td>\n",
              "      <td>48.94</td>\n",
              "      <td>47.81</td>\n",
              "      <td>48.81</td>\n",
              "      <td>48.11</td>\n",
              "      <td>48.92</td>\n",
              "      <td>47.15</td>\n",
              "      <td>48.11</td>\n",
              "      <td>48.71</td>\n",
              "      <td>50.43</td>\n",
              "      <td>48.55</td>\n",
              "      <td>48.71</td>\n",
              "      <td>49.74</td>\n",
              "      <td>50.39</td>\n",
              "      <td>49.19</td>\n",
              "      <td>49.74</td>\n",
              "      <td>50.12</td>\n",
              "      <td>50.30</td>\n",
              "      <td>49.35</td>\n",
              "      <td>50.12</td>\n",
              "      <td>50.12</td>\n",
              "      <td>50.63</td>\n",
              "      <td>48.11</td>\n",
              "      <td>50.12</td>\n",
              "      <td>48.50</td>\n",
              "      <td>48.60</td>\n",
              "      <td>47.74</td>\n",
              "      <td>48.50</td>\n",
              "      <td>48.30</td>\n",
              "      <td>48.57</td>\n",
              "      <td>47.18</td>\n",
              "      <td>48.30</td>\n",
              "      <td>47.55</td>\n",
              "      <td>48.54</td>\n",
              "      <td>46.60</td>\n",
              "      <td>47.55</td>\n",
              "      <td>46.89</td>\n",
              "      <td>...</td>\n",
              "      <td>47.56</td>\n",
              "      <td>48.74</td>\n",
              "      <td>48.69</td>\n",
              "      <td>49.23</td>\n",
              "      <td>48.44</td>\n",
              "      <td>48.69</td>\n",
              "      <td>48.55</td>\n",
              "      <td>48.71</td>\n",
              "      <td>47.57</td>\n",
              "      <td>48.55</td>\n",
              "      <td>47.68</td>\n",
              "      <td>48.37</td>\n",
              "      <td>47.49</td>\n",
              "      <td>47.68</td>\n",
              "      <td>47.81</td>\n",
              "      <td>48.22</td>\n",
              "      <td>47.65</td>\n",
              "      <td>47.81</td>\n",
              "      <td>47.72</td>\n",
              "      <td>48.12</td>\n",
              "      <td>47.01</td>\n",
              "      <td>47.72</td>\n",
              "      <td>47.11</td>\n",
              "      <td>47.32</td>\n",
              "      <td>46.68</td>\n",
              "      <td>47.11</td>\n",
              "      <td>47.13</td>\n",
              "      <td>48.17</td>\n",
              "      <td>47.04</td>\n",
              "      <td>47.13</td>\n",
              "      <td>48.01</td>\n",
              "      <td>48.25</td>\n",
              "      <td>47.58</td>\n",
              "      <td>48.01</td>\n",
              "      <td>47.95</td>\n",
              "      <td>47.96</td>\n",
              "      <td>47.71</td>\n",
              "      <td>47.95</td>\n",
              "      <td>47.72</td>\n",
              "      <td>47.96</td>\n",
              "    </tr>\n",
              "  </tbody>\n",
              "</table>\n",
              "<p>5 rows × 197 columns</p>\n",
              "</div>"
            ],
            "text/plain": [
              "      high0   low0  open0  close0  ...  low48  open48  close48  high49\n",
              "1948  47.42  44.62  44.80   46.59  ...  47.01   47.72    47.11   47.32\n",
              "1949  47.87  46.21  46.59   46.87  ...  46.68   47.11    47.13   48.17\n",
              "1950  47.55  46.01  46.87   47.45  ...  47.04   47.13    48.01   48.25\n",
              "1951  49.35  47.38  47.45   47.89  ...  47.58   48.01    47.95   47.96\n",
              "1952  48.83  47.51  47.89   48.81  ...  47.71   47.95    47.72   47.96\n",
              "\n",
              "[5 rows x 197 columns]"
            ]
          },
          "metadata": {},
          "execution_count": 850
        }
      ]
    },
    {
      "cell_type": "code",
      "metadata": {
        "trusted": true,
        "id": "0Ykh8CHfpskJ"
      },
      "source": [
        "def train_test_split(df, test_size=0.2):\n",
        "    split_row = len(df) - int(test_size * len(df))\n",
        "    train_data = df.iloc[:split_row]\n",
        "    test_data = df.iloc[split_row:]\n",
        "    return train_data, test_data"
      ],
      "execution_count": 851,
      "outputs": []
    },
    {
      "cell_type": "code",
      "metadata": {
        "trusted": true,
        "id": "PWKGJlxIpskM"
      },
      "source": [
        "train, test = train_test_split(hist, test_size=0.2)"
      ],
      "execution_count": 852,
      "outputs": []
    },
    {
      "cell_type": "code",
      "metadata": {
        "trusted": true,
        "id": "jqfrJbQhpskP"
      },
      "source": [
        "def line_plot(line1, line2, label1=None, label2=None, title='', lw=2):\n",
        "    fig, ax = plt.subplots(1, figsize=(13, 7))\n",
        "    ax.plot(line1, label=label1, linewidth=lw)\n",
        "    ax.plot(line2, label=label2, linewidth=lw)\n",
        "    ax.set_ylabel('price [CAD]', fontsize=14)\n",
        "    ax.set_title(title, fontsize=16)\n",
        "    ax.legend(loc='best', fontsize=16);"
      ],
      "execution_count": 853,
      "outputs": []
    },
    {
      "cell_type": "code",
      "metadata": {
        "trusted": true,
        "id": "9F_YTCCxpskS",
        "colab": {
          "base_uri": "https://localhost:8080/",
          "height": 428
        },
        "outputId": "e676bbae-4ed7-4104-ffd0-93b518985626"
      },
      "source": [
        "line_plot(train[target_col], test[target_col], 'training', 'test', title='')"
      ],
      "execution_count": 854,
      "outputs": [
        {
          "output_type": "display_data",
          "data": {
            "image/png": "[encoded data removed]",
            "text/plain": [
              "<Figure size 936x504 with 1 Axes>"
            ]
          },
          "metadata": {
            "needs_background": "light"
          }
        }
      ]
    },
    {
      "cell_type": "code",
      "metadata": {
        "trusted": true,
        "id": "iy-je3_bpskb"
      },
      "source": [
        "def normalise_zero_base(df):\n",
        "    return df / df.iloc[0] - 1\n",
        "\n",
        "def normalise_min_max(df):\n",
        "    return (df - df.min()) / (data.max() - df.min())"
      ],
      "execution_count": 855,
      "outputs": []
    },
    {
      "cell_type": "code",
      "metadata": {
        "trusted": true,
        "id": "zteL5amIpskh"
      },
      "source": [
        "def extract_window_data(df, window_len=5, zero_base=True):\n",
        "    window_data = []\n",
        "    for idx in range(len(df) - window_len):\n",
        "        tmp = df[idx: (idx + window_len)].copy()\n",
        "        if zero_base:\n",
        "            tmp = normalise_zero_base(tmp)\n",
        "        window_data.append(tmp.values)\n",
        "    return np.array(window_data)"
      ],
      "execution_count": 856,
      "outputs": []
    },
    {
      "cell_type": "code",
      "metadata": {
        "trusted": true,
        "id": "aTBbhnezpskk"
      },
      "source": [
        "def prepare_data(df, target_col, window_len=10, zero_base=True, test_size=0.2):\n",
        "    train_data, test_data = train_test_split(df, test_size=test_size)\n",
        "    X_train = extract_window_data(train_data, window_len, zero_base)\n",
        "    X_test = extract_window_data(test_data, window_len, zero_base)\n",
        "    y_train = train_data[target_col][window_len:].values\n",
        "    y_test = test_data[target_col][window_len:].values\n",
        "    if zero_base:\n",
        "        y_train = y_train / train_data[target_col][:-window_len].values - 1\n",
        "        y_test = y_test / test_data[target_col][:-window_len].values - 1\n",
        "\n",
        "    return train_data, test_data, X_train, X_test, y_train, y_test"
      ],
      "execution_count": 857,
      "outputs": []
    },
    {
      "cell_type": "code",
      "metadata": {
        "trusted": true,
        "id": "VjWtS2qJpskn"
      },
      "source": [
        "def build_lstm_model(input_data, output_size, neurons=100, activ_func='linear',\n",
        "                     dropout=0.2, loss='mse', optimizer='adam'):\n",
        "    model = Sequential()\n",
        "    model.add(LSTM(neurons, input_shape=(input_data.shape[1], input_data.shape[2])))\n",
        "    model.add(Dropout(dropout))\n",
        "    model.add(Dense(units=output_size))\n",
        "    model.add(Activation(activ_func))\n",
        "\n",
        "    model.compile(loss=loss, optimizer=optimizer)\n",
        "    return model"
      ],
      "execution_count": 858,
      "outputs": []
    },
    {
      "cell_type": "code",
      "metadata": {
        "trusted": true,
        "id": "aADcao3Qpskq"
      },
      "source": [
        "np.random.seed(42)\n",
        "window_len = 5\n",
        "test_size = 0.2\n",
        "zero_base = True\n",
        "lstm_neurons = 100\n",
        "epochs = 20\n",
        "batch_size = 32\n",
        "loss = 'mse'\n",
        "dropout = 0.2\n",
        "optimizer = 'adam'"
      ],
      "execution_count": 859,
      "outputs": []
    },
    {
      "cell_type": "code",
      "metadata": {
        "trusted": true,
        "id": "rAw5VBtwpskt"
      },
      "source": [
        "train, test, X_train, X_test, y_train, y_test = prepare_data(\n",
        "    hist, target_col, window_len=window_len, zero_base=zero_base, test_size=test_size)"
      ],
      "execution_count": 860,
      "outputs": []
    },
    {
      "cell_type": "code",
      "metadata": {
        "trusted": true,
        "id": "E5T9OAwQpskw",
        "colab": {
          "base_uri": "https://localhost:8080/"
        },
        "outputId": "889a8991-721c-4089-fade-9579bb65b072"
      },
      "source": [
        "model = build_lstm_model(\n",
        "    X_train, output_size=1, neurons=lstm_neurons, dropout=dropout, loss=loss,\n",
        "    optimizer=optimizer)\n",
        "history = model.fit(\n",
        "    X_train, y_train, validation_data=(X_test, y_test), epochs=epochs, batch_size=batch_size, verbose=1, shuffle=True)"
      ],
      "execution_count": 861,
      "outputs": [
        {
          "output_type": "stream",
          "text": [
            "Epoch 1/20\n",
            "49/49 [==============================] - 3s 19ms/step - loss: 6.4225e-04 - val_loss: 0.0021\n",
            "Epoch 2/20\n",
            "49/49 [==============================] - 0s 9ms/step - loss: 3.9105e-04 - val_loss: 0.0018\n",
            "Epoch 3/20\n",
            "49/49 [==============================] - 0s 9ms/step - loss: 2.9650e-04 - val_loss: 0.0017\n",
            "Epoch 4/20\n",
            "49/49 [==============================] - 0s 9ms/step - loss: 2.8653e-04 - val_loss: 0.0015\n",
            "Epoch 5/20\n",
            "49/49 [==============================] - 0s 9ms/step - loss: 2.5581e-04 - val_loss: 0.0013\n",
            "Epoch 6/20\n",
            "49/49 [==============================] - 0s 9ms/step - loss: 2.2616e-04 - val_loss: 0.0013\n",
            "Epoch 7/20\n",
            "49/49 [==============================] - 0s 9ms/step - loss: 2.1704e-04 - val_loss: 0.0013\n",
            "Epoch 8/20\n",
            "49/49 [==============================] - 0s 9ms/step - loss: 2.0399e-04 - val_loss: 0.0012\n",
            "Epoch 9/20\n",
            "49/49 [==============================] - 0s 9ms/step - loss: 2.0024e-04 - val_loss: 0.0012\n",
            "Epoch 10/20\n",
            "49/49 [==============================] - 0s 9ms/step - loss: 1.8660e-04 - val_loss: 0.0011\n",
            "Epoch 11/20\n",
            "49/49 [==============================] - 0s 9ms/step - loss: 1.8329e-04 - val_loss: 0.0012\n",
            "Epoch 12/20\n",
            "49/49 [==============================] - 0s 10ms/step - loss: 1.9168e-04 - val_loss: 9.8962e-04\n",
            "Epoch 13/20\n",
            "49/49 [==============================] - 0s 9ms/step - loss: 1.7424e-04 - val_loss: 9.8619e-04\n",
            "Epoch 14/20\n",
            "49/49 [==============================] - 0s 10ms/step - loss: 1.7167e-04 - val_loss: 0.0010\n",
            "Epoch 15/20\n",
            "49/49 [==============================] - 0s 9ms/step - loss: 1.6992e-04 - val_loss: 9.8659e-04\n",
            "Epoch 16/20\n",
            "49/49 [==============================] - 0s 9ms/step - loss: 1.6902e-04 - val_loss: 9.6477e-04\n",
            "Epoch 17/20\n",
            "49/49 [==============================] - 0s 9ms/step - loss: 1.5486e-04 - val_loss: 9.2055e-04\n",
            "Epoch 18/20\n",
            "49/49 [==============================] - 0s 9ms/step - loss: 1.5178e-04 - val_loss: 9.2448e-04\n",
            "Epoch 19/20\n",
            "49/49 [==============================] - 0s 9ms/step - loss: 1.5856e-04 - val_loss: 8.7867e-04\n",
            "Epoch 20/20\n",
            "49/49 [==============================] - 0s 9ms/step - loss: 1.5342e-04 - val_loss: 8.8952e-04\n"
          ],
          "name": "stdout"
        }
      ]
    },
    {
      "cell_type": "code",
      "metadata": {
        "id": "qhMsatri0miT",
        "colab": {
          "base_uri": "https://localhost:8080/",
          "height": 295
        },
        "outputId": "efd9cb67-f2b6-4d6c-9a4f-076180cad02e"
      },
      "source": [
        "import matplotlib.pyplot as plt\n",
        "plt.plot(history.history['loss'],'r',linewidth=2, label='Train loss')\n",
        "plt.plot(history.history['val_loss'], 'g',linewidth=2, label='Validation loss')\n",
        "plt.title('LSTM')\n",
        "plt.xlabel('Epochs')\n",
        "plt.ylabel('MSE')\n",
        "plt.show()"
      ],
      "execution_count": 862,
      "outputs": [
        {
          "output_type": "display_data",
          "data": {
            "image/png": "[encoded data removed]",
            "text/plain": [
              "<Figure size 432x288 with 1 Axes>"
            ]
          },
          "metadata": {
            "needs_background": "light"
          }
        }
      ]
    },
    {
      "cell_type": "code",
      "metadata": {
        "trusted": true,
        "id": "mS6SPIGNpskz",
        "colab": {
          "base_uri": "https://localhost:8080/"
        },
        "outputId": "fdb9bdcd-c053-4dbc-c937-222c78d404d9"
      },
      "source": [
        "targets = test[target_col][window_len:]\n",
        "preds = model.predict(X_test).squeeze()\n",
        "mean_absolute_error(preds, y_test)"
      ],
      "execution_count": 863,
      "outputs": [
        {
          "output_type": "execute_result",
          "data": {
            "text/plain": [
              "0.020313624793253077"
            ]
          },
          "metadata": {},
          "execution_count": 863
        }
      ]
    },
    {
      "cell_type": "code",
      "metadata": {
        "id": "sbhTW5T6zVAU",
        "colab": {
          "base_uri": "https://localhost:8080/"
        },
        "outputId": "498dd232-0c6f-4d26-f34f-a654d37813cc"
      },
      "source": [
        "from sklearn.metrics import mean_squared_error\n",
        "MAE=mean_squared_error(preds, y_test)\n",
        "MAE\n"
      ],
      "execution_count": 864,
      "outputs": [
        {
          "output_type": "execute_result",
          "data": {
            "text/plain": [
              "0.000889518934059766"
            ]
          },
          "metadata": {},
          "execution_count": 864
        }
      ]
    },
    {
      "cell_type": "code",
      "metadata": {
        "id": "jnFOCI9ezb8T",
        "colab": {
          "base_uri": "https://localhost:8080/"
        },
        "outputId": "40990ead-dad2-49fb-897e-66fe3a137432"
      },
      "source": [
        "from sklearn.metrics import r2_score\n",
        "R2=r2_score(y_test, preds)\n",
        "R2"
      ],
      "execution_count": 865,
      "outputs": [
        {
          "output_type": "execute_result",
          "data": {
            "text/plain": [
              "0.7717376708048361"
            ]
          },
          "metadata": {},
          "execution_count": 865
        }
      ]
    },
    {
      "cell_type": "code",
      "metadata": {
        "trusted": true,
        "id": "4jU0wERepsk2",
        "colab": {
          "base_uri": "https://localhost:8080/",
          "height": 428
        },
        "outputId": "4e596ed9-db79-4f41-b507-a1f1bf31a3b9"
      },
      "source": [
        "preds = test[target_col].values[:-window_len] * (preds + 1)\n",
        "preds = pd.Series(index=targets.index, data=preds)\n",
        "\n",
        "line_plot(targets, preds, 'actual', 'prediction', lw=3)"
      ],
      "execution_count": 866,
      "outputs": [
        {
          "output_type": "display_data",
          "data": {
            "image/png": "[encoded data removed]",
            "text/plain": [
              "<Figure size 936x504 with 1 Axes>"
            ]
          },
          "metadata": {
            "needs_background": "light"
          }
        }
      ]
    },
    {
      "cell_type": "code",
      "metadata": {
        "colab": {
          "base_uri": "https://localhost:8080/"
        },
        "id": "l6JAxa0SWoUj",
        "outputId": "29a57758-8cca-4789-8768-9fff5f939066"
      },
      "source": [
        "print(preds.tail(5))\n",
        "print(targets.tail(5))"
      ],
      "execution_count": 867,
      "outputs": [
        {
          "output_type": "stream",
          "text": [
            "1948    48.135795\n",
            "1949    47.273763\n",
            "1950    47.869778\n",
            "1951    48.646303\n",
            "1952    48.549584\n",
            "dtype: float64\n",
            "1948    47.32\n",
            "1949    48.17\n",
            "1950    48.25\n",
            "1951    47.96\n",
            "1952    47.96\n",
            "Name: high49, dtype: float64\n"
          ],
          "name": "stdout"
        }
      ]
    },
    {
      "cell_type": "code",
      "metadata": {
        "id": "xzOVLABAurUO"
      },
      "source": [
        ""
      ],
      "execution_count": null,
      "outputs": []
    },
    {
      "cell_type": "code",
      "metadata": {
        "colab": {
          "base_uri": "https://localhost:8080/",
          "height": 802
        },
        "id": "x5WmKqDJXDEe",
        "outputId": "026991e4-85ed-44f5-fe4d-f1e56f1b5d4d"
      },
      "source": [
        "endpoint = 'https://min-api.cryptocompare.com/data/v2/histohour?fsym=AVAX&tsym=USDT&limit=500&api_key=d030e2d4b355590e02d53bffc395ed91a2de64c65fbf38825b36f45d58e5f8d9'\n",
        "\n",
        "res = requests.get(endpoint)\n",
        "ihist = pd.DataFrame(json.loads(res.content)['Data']['Data'])\n",
        "ihist = ihist.set_index('time')\n",
        "ihist.index = pd.to_datetime(ihist.index, unit='s')\n",
        "\n",
        "target_col = 'high' + str(window_size - 1)\n",
        "ihist.drop([\"conversionType\", \"conversionSymbol\"], axis = 'columns', inplace = True)\n",
        "\n",
        "newcols = []\n",
        "for i in range(0, window_size):\n",
        "  newcols.append(\"high\" + str(i))\n",
        "  newcols.append(\"low\" + str(i))\n",
        "  newcols.append(\"open\" + str(i))\n",
        "  newcols.append(\"close\" + str(i))\n",
        "  # newcols.append(\"volumefrom\" + str(i))\n",
        "  # newcols.append(\"volumeto\" + str(i))\n",
        "\n",
        "#print(newcols)\n",
        "hist = pd.DataFrame(columns = newcols)\n",
        "count = 0\n",
        "current_row = []\n",
        "idx = 0\n",
        "\n",
        "allrows = []\n",
        "for index, row in ihist.iterrows():\n",
        "  tmp = [row['high'], row['low'], row['open'], row['close']]\n",
        "  allrows.extend(tmp)\n",
        "  \n",
        "\n",
        "count = 0;\n",
        "lastrow = []\n",
        "for idx, val in enumerate(allrows):\n",
        "  if (idx + 4*window_size <= len(allrows)) and idx%4==0:\n",
        "    lastrow = allrows[idx:idx + (4 * window_size)]\n",
        "    hist.loc[count] = lastrow.copy()\n",
        "    count = count+1\n",
        "    # print(lastrow)\n",
        "    # break;\n",
        "\n",
        "# print(len(hist))\n",
        "# print((1999 - window_size - 1))\n",
        "\n",
        "lastr = lastrow.copy()\n",
        "lastr = lastr[4:]\n",
        "lastr.extend([lastrow[len(lastrow) -4], 0, 0, 0])\n",
        "\n",
        "hist.loc[count] = lastr\n",
        "hist.drop([\"close\" + str(window_size-1), \"low\" + str(window_size-1), \"open\" + str(window_size-1)], axis = 'columns', inplace = True)\n",
        "\n",
        "#Test\n",
        "train, test, X_train, X_test, y_train, y_test = prepare_data(\n",
        "    hist, target_col, window_len=window_len, zero_base=zero_base, test_size=test_size)\n",
        "\n",
        "targets = test[target_col][window_len:]\n",
        "preds = model.predict(X_test).squeeze()\n",
        "\n",
        "preds = test[target_col].values[:-window_len] * (preds + 1)\n",
        "preds = pd.Series(index=targets.index, data=preds)\n",
        "\n",
        "line_plot(targets, preds, 'actual', 'prediction', lw=3)\n",
        "print(targets.tail(10))\n",
        "print(preds.tail(10))\n"
      ],
      "execution_count": 868,
      "outputs": [
        {
          "output_type": "stream",
          "text": [
            "443    49.23\n",
            "444    48.71\n",
            "445    48.37\n",
            "446    48.22\n",
            "447    48.12\n",
            "448    47.32\n",
            "449    48.17\n",
            "450    48.25\n",
            "451    47.96\n",
            "452    47.96\n",
            "Name: high49, dtype: float64\n",
            "443    49.088084\n",
            "444    49.253641\n",
            "445    49.124832\n",
            "446    48.070877\n",
            "447    47.451911\n",
            "448    48.135795\n",
            "449    47.273763\n",
            "450    47.869778\n",
            "451    48.646303\n",
            "452    48.549584\n",
            "dtype: float64\n"
          ],
          "name": "stdout"
        },
        {
          "output_type": "display_data",
          "data": {
            "image/png": "[encoded data removed]",
            "text/plain": [
              "<Figure size 936x504 with 1 Axes>"
            ]
          },
          "metadata": {
            "needs_background": "light"
          }
        }
      ]
    },
    {
      "cell_type": "code",
      "metadata": {
        "id": "MtrB0BaoZNDS"
      },
      "source": [
        ""
      ],
      "execution_count": null,
      "outputs": []
    },
    {
      "cell_type": "code",
      "metadata": {
        "colab": {
          "base_uri": "https://localhost:8080/"
        },
        "id": "-44A00INWY7_",
        "outputId": "ba3eff1e-ec66-41f0-b57d-949107d10aa5"
      },
      "source": [
        "preds.tail(5)"
      ],
      "execution_count": 394,
      "outputs": [
        {
          "output_type": "execute_result",
          "data": {
            "text/plain": [
              "381    73.946401\n",
              "382    73.883370\n",
              "383    73.993585\n",
              "384    73.959212\n",
              "385    74.004745\n",
              "dtype: float64"
            ]
          },
          "metadata": {},
          "execution_count": 394
        }
      ]
    }
  ]
}